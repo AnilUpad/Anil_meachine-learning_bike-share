{
  "nbformat": 4,
  "nbformat_minor": 0,
  "metadata": {
    "colab": {
      "provenance": [],
      "mount_file_id": "16b90bZYzPVz_ELvvA34Ra84ORf_YsukB",
      "authorship_tag": "ABX9TyNx693Ofs3C7g0iqouOqqq6",
      "include_colab_link": true
    },
    "kernelspec": {
      "name": "python3",
      "display_name": "Python 3"
    },
    "language_info": {
      "name": "python"
    }
  },
  "cells": [
    {
      "cell_type": "markdown",
      "metadata": {
        "id": "view-in-github",
        "colab_type": "text"
      },
      "source": [
        "<a href=\"https://colab.research.google.com/github/AnilUpad/Anil_meachine-learning_bike-share/blob/main/Anil_meachine_learning_bike_share_sharing.ipynb\" target=\"_parent\"><img src=\"https://colab.research.google.com/assets/colab-badge.svg\" alt=\"Open In Colab\"/></a>"
      ]
    },
    {
      "cell_type": "markdown",
      "source": [
        "# Project Name-Bike sharing prediction"
      ],
      "metadata": {
        "id": "H9Kyve3UeX_O"
      }
    },
    {
      "cell_type": "markdown",
      "source": [
        "# Project Type-Regression"
      ],
      "metadata": {
        "id": "875Uihmwe_Wz"
      }
    },
    {
      "cell_type": "markdown",
      "source": [
        "# Individual Project\n",
        "# Name-Anil upadhyay"
      ],
      "metadata": {
        "id": "lvIyLhzjfSKW"
      }
    },
    {
      "cell_type": "markdown",
      "source": [
        "# Project-Regression-Bike Sharing Demand Prediction"
      ],
      "metadata": {
        "id": "wDm3tNOMf0TD"
      }
    },
    {
      "cell_type": "markdown",
      "source": [
        "# Github link-https://github.com/AnilUpad/Anil_meachine-learning_bike-share/blob/main/Anil_meachine_learning_bike_share_sharing.ipynb"
      ],
      "metadata": {
        "id": "TD8ucF4ogDnr"
      }
    },
    {
      "cell_type": "markdown",
      "source": [
        "# Problem objective"
      ],
      "metadata": {
        "id": "fx_YujrTgevT"
      }
    },
    {
      "cell_type": "markdown",
      "source": [
        "The introduction of rental bikes in urban cities has significantly enhanced mobility and comfort for residents and visitors alike. The availability and accessibility of these rental bikes are critical factors in reducing waiting times and providing a stable supply of bikes to meet the growing demand. To address this concern effectively, various strategies and technologies can be employed.\n",
        "\n",
        "Demand forecasting plays a pivotal role in predicting the need for rental bikes at different times and locations. Historical rental data and external factors like weather and events are used to forecast demand accurately. Time series forecasting techniques help in predicting future demand patterns.\n",
        "\n",
        "Optimal bike placement is another vital aspect of ensuring a stable supply of rental bikes. By employing optimization algorithms, the optimal locations for bike stations can be determined based on predicted demand. This ensures that bikes are available precisely where and when they are needed most.\n",
        "\n",
        "Inventory management strategies help in redistributing bikes between stations dynamically. If one station consistently runs low on bikes, the system automatically transfers bikes from stations with surpluses to meet the demand. Real-time monitoring, through IoT sensors, allows for the continuous assessment of bike availability and station status.\n",
        "\n",
        "Dynamic pricing strategies incentivize users to return bikes to stations with high demand during peak hours, helping to balance the bike distribution. User-friendly mobile apps provide real-time information on bike availability and station locations, enhancing user experience.\n",
        "\n",
        "Machine learning algorithms can improve demand prediction accuracy, and a feedback loop ensures continuous system optimization based on user behavior and performance data. Regular maintenance and quality assurance processes are crucial to keep bikes and stations in good working condition.\n",
        "\n",
        "As the bike-sharing system expands, scaling the infrastructure and expanding into new areas may be necessary to meet the increasing demand. Monitoring the environmental impact of the system, including reduced traffic congestion and lower carbon emissions, contributes to sustainability efforts."
      ],
      "metadata": {
        "id": "tsM2ukOei18w"
      }
    },
    {
      "cell_type": "markdown",
      "source": [
        "# Problem Statement"
      ],
      "metadata": {
        "id": "XoqHghzShJNz"
      }
    },
    {
      "cell_type": "markdown",
      "source": [
        "## Develop a predictive model to estimate hourly bike demand,optimizing the supply of rental bikes in uraban areas, reducing waiting times,and enhancing user satisfication."
      ],
      "metadata": {
        "id": "cNeL4mQ3hRS_"
      }
    },
    {
      "cell_type": "markdown",
      "source": [
        "## Let's Begin!"
      ],
      "metadata": {
        "id": "usMRa2hciDYx"
      }
    },
    {
      "cell_type": "markdown",
      "source": [
        "## 1.Know your data"
      ],
      "metadata": {
        "id": "V4pFabiBiPR1"
      }
    },
    {
      "cell_type": "markdown",
      "source": [
        "## Import Libraries"
      ],
      "metadata": {
        "id": "xhdqhlGwiaJC"
      }
    },
    {
      "cell_type": "code",
      "source": [
        "#  Import Libraries\n",
        "import numpy as np\n",
        "import pandas as pd\n",
        "import matplotlib.pyplot as plt\n",
        "import seaborn as sns\n",
        "import chardet\n",
        "from statsmodels.stats.outliers_influence import variance_inflation_factor\n",
        "from sklearn.model_selection import train_test_split\n",
        "from sklearn.preprocessing import StandardScaler\n"
      ],
      "metadata": {
        "id": "M9CeFxy8l8Ff"
      },
      "execution_count": 7,
      "outputs": []
    },
    {
      "cell_type": "code",
      "source": [
        "from google.colab import drive\n",
        "drive.mount('/content/drive')"
      ],
      "metadata": {
        "colab": {
          "base_uri": "https://localhost:8080/"
        },
        "id": "f6Z9sVO8mR8S",
        "outputId": "46d9460f-fb96-4d33-c32f-f408edd9c677"
      },
      "execution_count": 8,
      "outputs": [
        {
          "output_type": "stream",
          "name": "stdout",
          "text": [
            "Drive already mounted at /content/drive; to attempt to forcibly remount, call drive.mount(\"/content/drive\", force_remount=True).\n"
          ]
        }
      ]
    },
    {
      "cell_type": "markdown",
      "source": [
        "# Dataset Loading"
      ],
      "metadata": {
        "id": "tufCHQx9m8O1"
      }
    },
    {
      "cell_type": "code",
      "source": [
        "# Load Dataset\n",
        "with open(\"/content/drive/MyDrive/Copy of SeoulBikeData (1).csv\", 'rb') as f:\n",
        "    result = chardet.detect(f.read())\n",
        "encoding = result['encoding']\n",
        "data = pd.read_csv(\"/content/drive/MyDrive/Copy of SeoulBikeData (1).csv\", encoding=encoding)\n",
        "\n",
        "\n",
        "\n",
        "\n",
        "\n",
        "\n",
        "\n"
      ],
      "metadata": {
        "id": "CYN_eExSn5zd"
      },
      "execution_count": 11,
      "outputs": []
    },
    {
      "cell_type": "markdown",
      "source": [
        "# Dataset First View"
      ],
      "metadata": {
        "id": "TKZ8mHh6pzMF"
      }
    },
    {
      "cell_type": "code",
      "source": [
        "# Dataset First LookC\n",
        "data.head().style.background_gradient(cmap=\"cool\")\n",
        "\n",
        "\n",
        "\n",
        "\n"
      ],
      "metadata": {
        "colab": {
          "base_uri": "https://localhost:8080/",
          "height": 328
        },
        "id": "YF8s_DKjp7gf",
        "outputId": "ceffbdc6-42f6-4fe5-fc4c-1e2a47aa5c1e"
      },
      "execution_count": 12,
      "outputs": [
        {
          "output_type": "execute_result",
          "data": {
            "text/plain": [
              "<pandas.io.formats.style.Styler at 0x7f3358907b50>"
            ],
            "text/html": [
              "<style type=\"text/css\">\n",
              "#T_9df2b_row0_col1, #T_9df2b_row0_col3, #T_9df2b_row0_col7, #T_9df2b_row1_col7, #T_9df2b_row3_col4, #T_9df2b_row3_col7, #T_9df2b_row4_col2, #T_9df2b_row4_col5 {\n",
              "  background-color: #ff00ff;\n",
              "  color: #f1f1f1;\n",
              "}\n",
              "#T_9df2b_row0_col2, #T_9df2b_row0_col6, #T_9df2b_row0_col8, #T_9df2b_row0_col9, #T_9df2b_row0_col10, #T_9df2b_row1_col5, #T_9df2b_row1_col6, #T_9df2b_row1_col8, #T_9df2b_row1_col9, #T_9df2b_row1_col10, #T_9df2b_row2_col6, #T_9df2b_row2_col8, #T_9df2b_row2_col9, #T_9df2b_row2_col10, #T_9df2b_row3_col3, #T_9df2b_row3_col6, #T_9df2b_row3_col8, #T_9df2b_row3_col9, #T_9df2b_row3_col10, #T_9df2b_row4_col1, #T_9df2b_row4_col4, #T_9df2b_row4_col6, #T_9df2b_row4_col7, #T_9df2b_row4_col8, #T_9df2b_row4_col9, #T_9df2b_row4_col10 {\n",
              "  background-color: #00ffff;\n",
              "  color: #000000;\n",
              "}\n",
              "#T_9df2b_row0_col4, #T_9df2b_row1_col2 {\n",
              "  background-color: #40bfff;\n",
              "  color: #000000;\n",
              "}\n",
              "#T_9df2b_row0_col5 {\n",
              "  background-color: #ee11ff;\n",
              "  color: #f1f1f1;\n",
              "}\n",
              "#T_9df2b_row1_col1 {\n",
              "  background-color: #b748ff;\n",
              "  color: #f1f1f1;\n",
              "}\n",
              "#T_9df2b_row1_col3 {\n",
              "  background-color: #b34cff;\n",
              "  color: #f1f1f1;\n",
              "}\n",
              "#T_9df2b_row1_col4, #T_9df2b_row2_col2 {\n",
              "  background-color: #807fff;\n",
              "  color: #f1f1f1;\n",
              "}\n",
              "#T_9df2b_row2_col1 {\n",
              "  background-color: #8a75ff;\n",
              "  color: #f1f1f1;\n",
              "}\n",
              "#T_9df2b_row2_col3, #T_9df2b_row4_col3 {\n",
              "  background-color: #33ccff;\n",
              "  color: #000000;\n",
              "}\n",
              "#T_9df2b_row2_col4, #T_9df2b_row3_col2 {\n",
              "  background-color: #c03fff;\n",
              "  color: #f1f1f1;\n",
              "}\n",
              "#T_9df2b_row2_col5 {\n",
              "  background-color: #22ddff;\n",
              "  color: #000000;\n",
              "}\n",
              "#T_9df2b_row2_col7 {\n",
              "  background-color: #e619ff;\n",
              "  color: #f1f1f1;\n",
              "}\n",
              "#T_9df2b_row3_col1 {\n",
              "  background-color: #2ad5ff;\n",
              "  color: #000000;\n",
              "}\n",
              "#T_9df2b_row3_col5 {\n",
              "  background-color: #11eeff;\n",
              "  color: #000000;\n",
              "}\n",
              "</style>\n",
              "<table id=\"T_9df2b\" class=\"dataframe\">\n",
              "  <thead>\n",
              "    <tr>\n",
              "      <th class=\"blank level0\" >&nbsp;</th>\n",
              "      <th id=\"T_9df2b_level0_col0\" class=\"col_heading level0 col0\" >Date</th>\n",
              "      <th id=\"T_9df2b_level0_col1\" class=\"col_heading level0 col1\" >Rented Bike Count</th>\n",
              "      <th id=\"T_9df2b_level0_col2\" class=\"col_heading level0 col2\" >Hour</th>\n",
              "      <th id=\"T_9df2b_level0_col3\" class=\"col_heading level0 col3\" >Temperature(°C)</th>\n",
              "      <th id=\"T_9df2b_level0_col4\" class=\"col_heading level0 col4\" >Humidity(%)</th>\n",
              "      <th id=\"T_9df2b_level0_col5\" class=\"col_heading level0 col5\" >Wind speed (m/s)</th>\n",
              "      <th id=\"T_9df2b_level0_col6\" class=\"col_heading level0 col6\" >Visibility (10m)</th>\n",
              "      <th id=\"T_9df2b_level0_col7\" class=\"col_heading level0 col7\" >Dew point temperature(°C)</th>\n",
              "      <th id=\"T_9df2b_level0_col8\" class=\"col_heading level0 col8\" >Solar Radiation (MJ/m2)</th>\n",
              "      <th id=\"T_9df2b_level0_col9\" class=\"col_heading level0 col9\" >Rainfall(mm)</th>\n",
              "      <th id=\"T_9df2b_level0_col10\" class=\"col_heading level0 col10\" >Snowfall (cm)</th>\n",
              "      <th id=\"T_9df2b_level0_col11\" class=\"col_heading level0 col11\" >Seasons</th>\n",
              "      <th id=\"T_9df2b_level0_col12\" class=\"col_heading level0 col12\" >Holiday</th>\n",
              "      <th id=\"T_9df2b_level0_col13\" class=\"col_heading level0 col13\" >Functioning Day</th>\n",
              "    </tr>\n",
              "  </thead>\n",
              "  <tbody>\n",
              "    <tr>\n",
              "      <th id=\"T_9df2b_level0_row0\" class=\"row_heading level0 row0\" >0</th>\n",
              "      <td id=\"T_9df2b_row0_col0\" class=\"data row0 col0\" >01/12/2017</td>\n",
              "      <td id=\"T_9df2b_row0_col1\" class=\"data row0 col1\" >254</td>\n",
              "      <td id=\"T_9df2b_row0_col2\" class=\"data row0 col2\" >0</td>\n",
              "      <td id=\"T_9df2b_row0_col3\" class=\"data row0 col3\" >-5.200000</td>\n",
              "      <td id=\"T_9df2b_row0_col4\" class=\"data row0 col4\" >37</td>\n",
              "      <td id=\"T_9df2b_row0_col5\" class=\"data row0 col5\" >2.200000</td>\n",
              "      <td id=\"T_9df2b_row0_col6\" class=\"data row0 col6\" >2000</td>\n",
              "      <td id=\"T_9df2b_row0_col7\" class=\"data row0 col7\" >-17.600000</td>\n",
              "      <td id=\"T_9df2b_row0_col8\" class=\"data row0 col8\" >0.000000</td>\n",
              "      <td id=\"T_9df2b_row0_col9\" class=\"data row0 col9\" >0.000000</td>\n",
              "      <td id=\"T_9df2b_row0_col10\" class=\"data row0 col10\" >0.000000</td>\n",
              "      <td id=\"T_9df2b_row0_col11\" class=\"data row0 col11\" >Winter</td>\n",
              "      <td id=\"T_9df2b_row0_col12\" class=\"data row0 col12\" >No Holiday</td>\n",
              "      <td id=\"T_9df2b_row0_col13\" class=\"data row0 col13\" >Yes</td>\n",
              "    </tr>\n",
              "    <tr>\n",
              "      <th id=\"T_9df2b_level0_row1\" class=\"row_heading level0 row1\" >1</th>\n",
              "      <td id=\"T_9df2b_row1_col0\" class=\"data row1 col0\" >01/12/2017</td>\n",
              "      <td id=\"T_9df2b_row1_col1\" class=\"data row1 col1\" >204</td>\n",
              "      <td id=\"T_9df2b_row1_col2\" class=\"data row1 col2\" >1</td>\n",
              "      <td id=\"T_9df2b_row1_col3\" class=\"data row1 col3\" >-5.500000</td>\n",
              "      <td id=\"T_9df2b_row1_col4\" class=\"data row1 col4\" >38</td>\n",
              "      <td id=\"T_9df2b_row1_col5\" class=\"data row1 col5\" >0.800000</td>\n",
              "      <td id=\"T_9df2b_row1_col6\" class=\"data row1 col6\" >2000</td>\n",
              "      <td id=\"T_9df2b_row1_col7\" class=\"data row1 col7\" >-17.600000</td>\n",
              "      <td id=\"T_9df2b_row1_col8\" class=\"data row1 col8\" >0.000000</td>\n",
              "      <td id=\"T_9df2b_row1_col9\" class=\"data row1 col9\" >0.000000</td>\n",
              "      <td id=\"T_9df2b_row1_col10\" class=\"data row1 col10\" >0.000000</td>\n",
              "      <td id=\"T_9df2b_row1_col11\" class=\"data row1 col11\" >Winter</td>\n",
              "      <td id=\"T_9df2b_row1_col12\" class=\"data row1 col12\" >No Holiday</td>\n",
              "      <td id=\"T_9df2b_row1_col13\" class=\"data row1 col13\" >Yes</td>\n",
              "    </tr>\n",
              "    <tr>\n",
              "      <th id=\"T_9df2b_level0_row2\" class=\"row_heading level0 row2\" >2</th>\n",
              "      <td id=\"T_9df2b_row2_col0\" class=\"data row2 col0\" >01/12/2017</td>\n",
              "      <td id=\"T_9df2b_row2_col1\" class=\"data row2 col1\" >173</td>\n",
              "      <td id=\"T_9df2b_row2_col2\" class=\"data row2 col2\" >2</td>\n",
              "      <td id=\"T_9df2b_row2_col3\" class=\"data row2 col3\" >-6.000000</td>\n",
              "      <td id=\"T_9df2b_row2_col4\" class=\"data row2 col4\" >39</td>\n",
              "      <td id=\"T_9df2b_row2_col5\" class=\"data row2 col5\" >1.000000</td>\n",
              "      <td id=\"T_9df2b_row2_col6\" class=\"data row2 col6\" >2000</td>\n",
              "      <td id=\"T_9df2b_row2_col7\" class=\"data row2 col7\" >-17.700000</td>\n",
              "      <td id=\"T_9df2b_row2_col8\" class=\"data row2 col8\" >0.000000</td>\n",
              "      <td id=\"T_9df2b_row2_col9\" class=\"data row2 col9\" >0.000000</td>\n",
              "      <td id=\"T_9df2b_row2_col10\" class=\"data row2 col10\" >0.000000</td>\n",
              "      <td id=\"T_9df2b_row2_col11\" class=\"data row2 col11\" >Winter</td>\n",
              "      <td id=\"T_9df2b_row2_col12\" class=\"data row2 col12\" >No Holiday</td>\n",
              "      <td id=\"T_9df2b_row2_col13\" class=\"data row2 col13\" >Yes</td>\n",
              "    </tr>\n",
              "    <tr>\n",
              "      <th id=\"T_9df2b_level0_row3\" class=\"row_heading level0 row3\" >3</th>\n",
              "      <td id=\"T_9df2b_row3_col0\" class=\"data row3 col0\" >01/12/2017</td>\n",
              "      <td id=\"T_9df2b_row3_col1\" class=\"data row3 col1\" >107</td>\n",
              "      <td id=\"T_9df2b_row3_col2\" class=\"data row3 col2\" >3</td>\n",
              "      <td id=\"T_9df2b_row3_col3\" class=\"data row3 col3\" >-6.200000</td>\n",
              "      <td id=\"T_9df2b_row3_col4\" class=\"data row3 col4\" >40</td>\n",
              "      <td id=\"T_9df2b_row3_col5\" class=\"data row3 col5\" >0.900000</td>\n",
              "      <td id=\"T_9df2b_row3_col6\" class=\"data row3 col6\" >2000</td>\n",
              "      <td id=\"T_9df2b_row3_col7\" class=\"data row3 col7\" >-17.600000</td>\n",
              "      <td id=\"T_9df2b_row3_col8\" class=\"data row3 col8\" >0.000000</td>\n",
              "      <td id=\"T_9df2b_row3_col9\" class=\"data row3 col9\" >0.000000</td>\n",
              "      <td id=\"T_9df2b_row3_col10\" class=\"data row3 col10\" >0.000000</td>\n",
              "      <td id=\"T_9df2b_row3_col11\" class=\"data row3 col11\" >Winter</td>\n",
              "      <td id=\"T_9df2b_row3_col12\" class=\"data row3 col12\" >No Holiday</td>\n",
              "      <td id=\"T_9df2b_row3_col13\" class=\"data row3 col13\" >Yes</td>\n",
              "    </tr>\n",
              "    <tr>\n",
              "      <th id=\"T_9df2b_level0_row4\" class=\"row_heading level0 row4\" >4</th>\n",
              "      <td id=\"T_9df2b_row4_col0\" class=\"data row4 col0\" >01/12/2017</td>\n",
              "      <td id=\"T_9df2b_row4_col1\" class=\"data row4 col1\" >78</td>\n",
              "      <td id=\"T_9df2b_row4_col2\" class=\"data row4 col2\" >4</td>\n",
              "      <td id=\"T_9df2b_row4_col3\" class=\"data row4 col3\" >-6.000000</td>\n",
              "      <td id=\"T_9df2b_row4_col4\" class=\"data row4 col4\" >36</td>\n",
              "      <td id=\"T_9df2b_row4_col5\" class=\"data row4 col5\" >2.300000</td>\n",
              "      <td id=\"T_9df2b_row4_col6\" class=\"data row4 col6\" >2000</td>\n",
              "      <td id=\"T_9df2b_row4_col7\" class=\"data row4 col7\" >-18.600000</td>\n",
              "      <td id=\"T_9df2b_row4_col8\" class=\"data row4 col8\" >0.000000</td>\n",
              "      <td id=\"T_9df2b_row4_col9\" class=\"data row4 col9\" >0.000000</td>\n",
              "      <td id=\"T_9df2b_row4_col10\" class=\"data row4 col10\" >0.000000</td>\n",
              "      <td id=\"T_9df2b_row4_col11\" class=\"data row4 col11\" >Winter</td>\n",
              "      <td id=\"T_9df2b_row4_col12\" class=\"data row4 col12\" >No Holiday</td>\n",
              "      <td id=\"T_9df2b_row4_col13\" class=\"data row4 col13\" >Yes</td>\n",
              "    </tr>\n",
              "  </tbody>\n",
              "</table>\n"
            ]
          },
          "metadata": {},
          "execution_count": 12
        }
      ]
    },
    {
      "cell_type": "code",
      "source": [
        "# Dataset Rows & Columns count\n",
        "data.count()"
      ],
      "metadata": {
        "colab": {
          "base_uri": "https://localhost:8080/"
        },
        "id": "eraVtGTo7v8y",
        "outputId": "3bdfcf39-6d6e-40f7-cb9b-8fb4e8f4aead"
      },
      "execution_count": 13,
      "outputs": [
        {
          "output_type": "execute_result",
          "data": {
            "text/plain": [
              "Date                         8760\n",
              "Rented Bike Count            8760\n",
              "Hour                         8760\n",
              "Temperature(°C)              8760\n",
              "Humidity(%)                  8760\n",
              "Wind speed (m/s)             8760\n",
              "Visibility (10m)             8760\n",
              "Dew point temperature(°C)    8760\n",
              "Solar Radiation (MJ/m2)      8760\n",
              "Rainfall(mm)                 8760\n",
              "Snowfall (cm)                8760\n",
              "Seasons                      8760\n",
              "Holiday                      8760\n",
              "Functioning Day              8760\n",
              "dtype: int64"
            ]
          },
          "metadata": {},
          "execution_count": 13
        }
      ]
    },
    {
      "cell_type": "markdown",
      "source": [
        "# Dataset information"
      ],
      "metadata": {
        "id": "wckk0dQ79Ds4"
      }
    },
    {
      "cell_type": "code",
      "source": [
        "# Dataset Info\n",
        "data.info()"
      ],
      "metadata": {
        "colab": {
          "base_uri": "https://localhost:8080/"
        },
        "id": "NVWBekhf9Bej",
        "outputId": "d074bb18-4e0b-4a50-e55d-577157c1d43d"
      },
      "execution_count": 14,
      "outputs": [
        {
          "output_type": "stream",
          "name": "stdout",
          "text": [
            "<class 'pandas.core.frame.DataFrame'>\n",
            "RangeIndex: 8760 entries, 0 to 8759\n",
            "Data columns (total 14 columns):\n",
            " #   Column                     Non-Null Count  Dtype  \n",
            "---  ------                     --------------  -----  \n",
            " 0   Date                       8760 non-null   object \n",
            " 1   Rented Bike Count          8760 non-null   int64  \n",
            " 2   Hour                       8760 non-null   int64  \n",
            " 3   Temperature(°C)            8760 non-null   float64\n",
            " 4   Humidity(%)                8760 non-null   int64  \n",
            " 5   Wind speed (m/s)           8760 non-null   float64\n",
            " 6   Visibility (10m)           8760 non-null   int64  \n",
            " 7   Dew point temperature(°C)  8760 non-null   float64\n",
            " 8   Solar Radiation (MJ/m2)    8760 non-null   float64\n",
            " 9   Rainfall(mm)               8760 non-null   float64\n",
            " 10  Snowfall (cm)              8760 non-null   float64\n",
            " 11  Seasons                    8760 non-null   object \n",
            " 12  Holiday                    8760 non-null   object \n",
            " 13  Functioning Day            8760 non-null   object \n",
            "dtypes: float64(6), int64(4), object(4)\n",
            "memory usage: 958.2+ KB\n"
          ]
        }
      ]
    },
    {
      "cell_type": "markdown",
      "source": [
        "# Duplicate Values"
      ],
      "metadata": {
        "id": "dAglv0kj9UQJ"
      }
    },
    {
      "cell_type": "code",
      "source": [
        "# Dataset Duplicate Value count\n",
        "data.duplicated().sum()"
      ],
      "metadata": {
        "colab": {
          "base_uri": "https://localhost:8080/"
        },
        "id": "neYXmtso9dC8",
        "outputId": "6ad9f8cc-e6e2-48d6-8862-58e4b60830cc"
      },
      "execution_count": 16,
      "outputs": [
        {
          "output_type": "execute_result",
          "data": {
            "text/plain": [
              "0"
            ]
          },
          "metadata": {},
          "execution_count": 16
        }
      ]
    },
    {
      "cell_type": "markdown",
      "source": [
        "# Missing Values/Null Values"
      ],
      "metadata": {
        "id": "TUMYiP2r90Nx"
      }
    },
    {
      "cell_type": "code",
      "source": [],
      "metadata": {
        "id": "6parHe2W-jK2"
      },
      "execution_count": null,
      "outputs": []
    }
  ]
}