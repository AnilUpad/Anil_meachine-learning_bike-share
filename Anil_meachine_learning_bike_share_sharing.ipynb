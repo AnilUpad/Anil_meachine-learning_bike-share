{
  "nbformat": 4,
  "nbformat_minor": 0,
  "metadata": {
    "colab": {
      "provenance": [],
      "authorship_tag": "ABX9TyOHfGbKfu2zGv/r1QsZhlUV",
      "include_colab_link": true
    },
    "kernelspec": {
      "name": "python3",
      "display_name": "Python 3"
    },
    "language_info": {
      "name": "python"
    }
  },
  "cells": [
    {
      "cell_type": "markdown",
      "metadata": {
        "id": "view-in-github",
        "colab_type": "text"
      },
      "source": [
        "<a href=\"https://colab.research.google.com/github/AnilUpad/Anil_meachine-learning_bike-share/blob/main/Anil_meachine_learning_bike_share_sharing.ipynb\" target=\"_parent\"><img src=\"https://colab.research.google.com/assets/colab-badge.svg\" alt=\"Open In Colab\"/></a>"
      ]
    },
    {
      "cell_type": "markdown",
      "source": [
        "# Project Name-Bike sharing prediction"
      ],
      "metadata": {
        "id": "H9Kyve3UeX_O"
      }
    },
    {
      "cell_type": "markdown",
      "source": [
        "# Project Type-Regression"
      ],
      "metadata": {
        "id": "875Uihmwe_Wz"
      }
    },
    {
      "cell_type": "markdown",
      "source": [
        "# Individual Project\n",
        "# Name-Anil upadhyay"
      ],
      "metadata": {
        "id": "lvIyLhzjfSKW"
      }
    },
    {
      "cell_type": "markdown",
      "source": [
        "# Project-Regression-Bike Sharing Demand Prediction"
      ],
      "metadata": {
        "id": "wDm3tNOMf0TD"
      }
    },
    {
      "cell_type": "markdown",
      "source": [
        "# Github link-"
      ],
      "metadata": {
        "id": "TD8ucF4ogDnr"
      }
    }
  ]
}