{
  "nbformat": 4,
  "nbformat_minor": 0,
  "metadata": {
    "colab": {
      "provenance": [],
      "mount_file_id": "16b90bZYzPVz_ELvvA34Ra84ORf_YsukB",
      "authorship_tag": "ABX9TyM4OIW9WcU7GWifCkPXpFiJ",
      "include_colab_link": true
    },
    "kernelspec": {
      "name": "python3",
      "display_name": "Python 3"
    },
    "language_info": {
      "name": "python"
    }
  },
  "cells": [
    {
      "cell_type": "markdown",
      "metadata": {
        "id": "view-in-github",
        "colab_type": "text"
      },
      "source": [
        "<a href=\"https://colab.research.google.com/github/AnilUpad/Anil_meachine-learning_bike-share/blob/main/Anil_meachine_learning_bike_share_sharing.ipynb\" target=\"_parent\"><img src=\"https://colab.research.google.com/assets/colab-badge.svg\" alt=\"Open In Colab\"/></a>"
      ]
    },
    {
      "cell_type": "markdown",
      "source": [
        "# Project Name-Bike sharing prediction"
      ],
      "metadata": {
        "id": "H9Kyve3UeX_O"
      }
    },
    {
      "cell_type": "markdown",
      "source": [
        "# Project Type-Regression"
      ],
      "metadata": {
        "id": "875Uihmwe_Wz"
      }
    },
    {
      "cell_type": "markdown",
      "source": [
        "# Individual Project\n",
        "# Name-Anil upadhyay"
      ],
      "metadata": {
        "id": "lvIyLhzjfSKW"
      }
    },
    {
      "cell_type": "markdown",
      "source": [
        "# Project-Regression-Bike Sharing Demand Prediction"
      ],
      "metadata": {
        "id": "wDm3tNOMf0TD"
      }
    },
    {
      "cell_type": "markdown",
      "source": [
        "# Github link-https://github.com/AnilUpad/Anil_meachine-learning_bike-share/blob/main/Anil_meachine_learning_bike_share_sharing.ipynb"
      ],
      "metadata": {
        "id": "TD8ucF4ogDnr"
      }
    },
    {
      "cell_type": "markdown",
      "source": [
        "# Problem objective"
      ],
      "metadata": {
        "id": "fx_YujrTgevT"
      }
    },
    {
      "cell_type": "markdown",
      "source": [
        "The introduction of rental bikes in urban cities has significantly enhanced mobility and comfort for residents and visitors alike. The availability and accessibility of these rental bikes are critical factors in reducing waiting times and providing a stable supply of bikes to meet the growing demand. To address this concern effectively, various strategies and technologies can be employed.\n",
        "\n",
        "Demand forecasting plays a pivotal role in predicting the need for rental bikes at different times and locations. Historical rental data and external factors like weather and events are used to forecast demand accurately. Time series forecasting techniques help in predicting future demand patterns.\n",
        "\n",
        "Optimal bike placement is another vital aspect of ensuring a stable supply of rental bikes. By employing optimization algorithms, the optimal locations for bike stations can be determined based on predicted demand. This ensures that bikes are available precisely where and when they are needed most.\n",
        "\n",
        "Inventory management strategies help in redistributing bikes between stations dynamically. If one station consistently runs low on bikes, the system automatically transfers bikes from stations with surpluses to meet the demand. Real-time monitoring, through IoT sensors, allows for the continuous assessment of bike availability and station status.\n",
        "\n",
        "Dynamic pricing strategies incentivize users to return bikes to stations with high demand during peak hours, helping to balance the bike distribution. User-friendly mobile apps provide real-time information on bike availability and station locations, enhancing user experience.\n",
        "\n",
        "Machine learning algorithms can improve demand prediction accuracy, and a feedback loop ensures continuous system optimization based on user behavior and performance data. Regular maintenance and quality assurance processes are crucial to keep bikes and stations in good working condition.\n",
        "\n",
        "As the bike-sharing system expands, scaling the infrastructure and expanding into new areas may be necessary to meet the increasing demand. Monitoring the environmental impact of the system, including reduced traffic congestion and lower carbon emissions, contributes to sustainability efforts."
      ],
      "metadata": {
        "id": "tsM2ukOei18w"
      }
    },
    {
      "cell_type": "markdown",
      "source": [
        "# Problem Statement"
      ],
      "metadata": {
        "id": "XoqHghzShJNz"
      }
    },
    {
      "cell_type": "markdown",
      "source": [
        "## Develop a predictive model to estimate hourly bike demand,optimizing the supply of rental bikes in uraban areas, reducing waiting times,and enhancing user satisfication."
      ],
      "metadata": {
        "id": "cNeL4mQ3hRS_"
      }
    },
    {
      "cell_type": "markdown",
      "source": [
        "## Let's Begin!"
      ],
      "metadata": {
        "id": "usMRa2hciDYx"
      }
    },
    {
      "cell_type": "markdown",
      "source": [
        "## 1.Know your data"
      ],
      "metadata": {
        "id": "V4pFabiBiPR1"
      }
    },
    {
      "cell_type": "markdown",
      "source": [
        "## Import Libraries"
      ],
      "metadata": {
        "id": "xhdqhlGwiaJC"
      }
    },
    {
      "cell_type": "code",
      "source": [
        "#  Import Libraries\n",
        "import numpy as np\n",
        "import pandas as pd\n",
        "import matplotlib.pyplot as plt\n",
        "import seaborn as sns\n",
        "import chardet\n",
        "from statsmodels.stats.outliers_influence import variance_inflation_factor\n",
        "from sklearn.model_selection import train_test_split\n",
        "from sklearn.preprocessing import StandardScaler\n"
      ],
      "metadata": {
        "id": "M9CeFxy8l8Ff"
      },
      "execution_count": 1,
      "outputs": []
    },
    {
      "cell_type": "code",
      "source": [
        "from google.colab import drive\n",
        "drive.mount('/content/drive')"
      ],
      "metadata": {
        "colab": {
          "base_uri": "https://localhost:8080/"
        },
        "id": "f6Z9sVO8mR8S",
        "outputId": "0a00274c-b225-494c-d6d5-1e2b2e7b50de"
      },
      "execution_count": 3,
      "outputs": [
        {
          "output_type": "stream",
          "name": "stdout",
          "text": [
            "Mounted at /content/drive\n"
          ]
        }
      ]
    },
    {
      "cell_type": "markdown",
      "source": [
        "# Dataset Loading"
      ],
      "metadata": {
        "id": "tufCHQx9m8O1"
      }
    },
    {
      "cell_type": "code",
      "source": [
        "# Load Dataset\n",
        "with open(\"/content/drive/MyDrive/my data science/ML CSV.csv\", 'rb') as f:\n",
        "    result = chardet.detect(f.read())\n",
        "encoding = result['encoding']\n",
        "data = pd.read_csv(\"/content/drive/MyDrive/my data science/ML CSV.csv\", encoding=encoding)\n",
        "\n",
        "\n",
        "\n",
        "\n"
      ],
      "metadata": {
        "colab": {
          "base_uri": "https://localhost:8080/",
          "height": 222
        },
        "id": "CYN_eExSn5zd",
        "outputId": "4e5b5756-f308-46dd-c934-d7f1ecf470ab"
      },
      "execution_count": 2,
      "outputs": [
        {
          "output_type": "error",
          "ename": "FileNotFoundError",
          "evalue": "[Errno 2] No such file or directory: '/content/drive/MyDrive/my data science/ML CSV.csv'",
          "traceback": [
            "\u001b[0;31m---------------------------------------------------------------------------\u001b[0m",
            "\u001b[0;31mFileNotFoundError\u001b[0m                         Traceback (most recent call last)",
            "\u001b[0;32m<ipython-input-2-9e08fc0c36fb>\u001b[0m in \u001b[0;36m<cell line: 2>\u001b[0;34m()\u001b[0m\n\u001b[1;32m      1\u001b[0m \u001b[0;31m# Load Dataset\u001b[0m\u001b[0;34m\u001b[0m\u001b[0;34m\u001b[0m\u001b[0m\n\u001b[0;32m----> 2\u001b[0;31m \u001b[0;32mwith\u001b[0m \u001b[0mopen\u001b[0m\u001b[0;34m(\u001b[0m\u001b[0;34m\"/content/drive/MyDrive/my data science/ML CSV.csv\"\u001b[0m\u001b[0;34m,\u001b[0m \u001b[0;34m'rb'\u001b[0m\u001b[0;34m)\u001b[0m \u001b[0;32mas\u001b[0m \u001b[0mf\u001b[0m\u001b[0;34m:\u001b[0m\u001b[0;34m\u001b[0m\u001b[0;34m\u001b[0m\u001b[0m\n\u001b[0m\u001b[1;32m      3\u001b[0m     \u001b[0mresult\u001b[0m \u001b[0;34m=\u001b[0m \u001b[0mchardet\u001b[0m\u001b[0;34m.\u001b[0m\u001b[0mdetect\u001b[0m\u001b[0;34m(\u001b[0m\u001b[0mf\u001b[0m\u001b[0;34m.\u001b[0m\u001b[0mread\u001b[0m\u001b[0;34m(\u001b[0m\u001b[0;34m)\u001b[0m\u001b[0;34m)\u001b[0m\u001b[0;34m\u001b[0m\u001b[0;34m\u001b[0m\u001b[0m\n\u001b[1;32m      4\u001b[0m \u001b[0mencoding\u001b[0m \u001b[0;34m=\u001b[0m \u001b[0mresult\u001b[0m\u001b[0;34m[\u001b[0m\u001b[0;34m'encoding'\u001b[0m\u001b[0;34m]\u001b[0m\u001b[0;34m\u001b[0m\u001b[0;34m\u001b[0m\u001b[0m\n\u001b[1;32m      5\u001b[0m \u001b[0mdata\u001b[0m \u001b[0;34m=\u001b[0m \u001b[0mpd\u001b[0m\u001b[0;34m.\u001b[0m\u001b[0mread_csv\u001b[0m\u001b[0;34m(\u001b[0m\u001b[0;34m\"/content/drive/MyDrive/my data science/ML CSV.csv\"\u001b[0m\u001b[0;34m,\u001b[0m \u001b[0mencoding\u001b[0m\u001b[0;34m=\u001b[0m\u001b[0mencoding\u001b[0m\u001b[0;34m)\u001b[0m\u001b[0;34m\u001b[0m\u001b[0;34m\u001b[0m\u001b[0m\n",
            "\u001b[0;31mFileNotFoundError\u001b[0m: [Errno 2] No such file or directory: '/content/drive/MyDrive/my data science/ML CSV.csv'"
          ]
        }
      ]
    },
    {
      "cell_type": "markdown",
      "source": [
        "# Dataset First View"
      ],
      "metadata": {
        "id": "TKZ8mHh6pzMF"
      }
    },
    {
      "cell_type": "code",
      "source": [
        "# Dataset First LookC\n",
        "data.head().style.background_gradient(cmap=\"cool\")\n",
        "\n",
        "\n",
        "\n",
        "\n"
      ],
      "metadata": {
        "colab": {
          "base_uri": "https://localhost:8080/",
          "height": 222
        },
        "id": "YF8s_DKjp7gf",
        "outputId": "7ce7b3cb-49be-4bab-c73a-4456951fc81d"
      },
      "execution_count": 19,
      "outputs": [
        {
          "output_type": "error",
          "ename": "NameError",
          "evalue": "name 'data' is not defined",
          "traceback": [
            "\u001b[0;31m---------------------------------------------------------------------------\u001b[0m",
            "\u001b[0;31mNameError\u001b[0m                                 Traceback (most recent call last)",
            "\u001b[0;32m<ipython-input-19-79ca3a97a6f1>\u001b[0m in \u001b[0;36m<cell line: 2>\u001b[0;34m()\u001b[0m\n\u001b[1;32m      1\u001b[0m \u001b[0;31m# Dataset First LookC\u001b[0m\u001b[0;34m\u001b[0m\u001b[0;34m\u001b[0m\u001b[0m\n\u001b[0;32m----> 2\u001b[0;31m \u001b[0mdata\u001b[0m\u001b[0;34m.\u001b[0m\u001b[0mhead\u001b[0m\u001b[0;34m(\u001b[0m\u001b[0;34m)\u001b[0m\u001b[0;34m.\u001b[0m\u001b[0mstyle\u001b[0m\u001b[0;34m.\u001b[0m\u001b[0mbackground_gradient\u001b[0m\u001b[0;34m(\u001b[0m\u001b[0mcmap\u001b[0m\u001b[0;34m=\u001b[0m\u001b[0;34m\"cool\"\u001b[0m\u001b[0;34m)\u001b[0m\u001b[0;34m\u001b[0m\u001b[0;34m\u001b[0m\u001b[0m\n\u001b[0m\u001b[1;32m      3\u001b[0m \u001b[0;34m\u001b[0m\u001b[0m\n\u001b[1;32m      4\u001b[0m \u001b[0;34m\u001b[0m\u001b[0m\n\u001b[1;32m      5\u001b[0m \u001b[0;34m\u001b[0m\u001b[0m\n",
            "\u001b[0;31mNameError\u001b[0m: name 'data' is not defined"
          ]
        }
      ]
    }
  ]
}